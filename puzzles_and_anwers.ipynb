{
 "cells": [
  {
   "cell_type": "markdown",
   "id": "a33e7e0b-7001-494d-abb7-52140e645352",
   "metadata": {
    "collapsed": false
   },
   "source": [
    "# Advent of Code December 2023\n",
    "\n",
    "https://adventofcode.com/\n"
   ]
  },
  {
   "cell_type": "markdown",
   "id": "0e84785e-c1bd-4703-9694-39c03dd7b95f",
   "metadata": {
    "collapsed": false
   },
   "source": [
    "# Puzzle 1\n",
    "\n",
    "**Description:**\n",
    "\n",
    "You've been doing this long enough to know that to restore snow operations, you need to check all fifty stars by December 25th.\n",
    "\n",
    "Collect stars by solving puzzles. Two puzzles will be made available on each day in the Advent calendar; the second puzzle is unlocked when you complete the first. Each puzzle grants one star. Good luck!\n",
    "\n",
    "You try to ask why they can't just use a weather machine (\"not powerful enough\") and where they're even sending you (\"the sky\") and why your map looks mostly blank (\"you sure ask a lot of questions\") and hang on did you just say the sky (\"of course, where do you think snow comes from\") when you realize that the Elves are already loading you into a trebuchet (\"please hold still, we need to strap you in\").\n",
    "\n",
    "As they're making the final adjustments, they discover that their calibration document (your puzzle input) has been amended by a very young Elf who was apparently just excited to show off her art skills. Consequently, the Elves are having trouble reading the values on the document.\n",
    "\n",
    "The newly-improved calibration document consists of lines of text; each line originally contained a specific calibration value that the Elves now need to recover. On each line, the calibration value can be found by combining the first digit and the last digit (in that order) to form a single two-digit number.\n",
    "\n",
    "For example:\n",
    "\n",
    "`\n",
    "1abc2\n",
    "pqr3stu8vwx\n",
    "a1b2c3d4e5f\n",
    "treb7uchet\n",
    "`\n",
    "\n",
    "In this example, the calibration values of these four lines are 12, 38, 15, and 77. Adding these together produces 142.\n",
    "\n",
    "Consider your entire calibration document. What is the sum of all of the calibration values?\n",
    "\n",
    "The entire calibration document is at `P1/input.txt`\n"
   ]
  },
  {
   "cell_type": "markdown",
   "id": "444009d3-2342-41d3-bfc0-af747224e046",
   "metadata": {
    "collapsed": false
   },
   "source": [
    "## My solution for puzzle 1\n",
    "\n",
    "To solve, I use library Pandas and regular expression RE.  I avoid using loops using for ou while.\n"
   ]
  },
  {
   "cell_type": "code",
   "execution_count": 30,
   "id": "47007a7f-66eb-4792-892c-f9d641c09893",
   "metadata": {
    "collapsed": false
   },
   "outputs": [
    {
     "name": "stdout",
     "output_type": "stream",
     "text": [
      "                                     Text_line  Calibration_value\n",
      "0                         six1mpffbnbnnlxthree                 11\n",
      "1                                 4eight3one92                 42\n",
      "2                           9nine2xnhvjtjlzj48                 98\n",
      "3                     jxrbrt4jmnmlonesznvbjrsn                 44\n",
      "4                         nsvkljgpfn77pvfour5j                 75\n",
      "..                                         ...                ...\n",
      "995            kpzfgpxdonesix2fourninefourfour                 22\n",
      "996                   fbdqzbmjnkmqcgeight5five                 55\n",
      "997                              425six14two46                 46\n",
      "998  jhctmxconelfkgmprnfourseven8twofkjvlvnjgd                 88\n",
      "999                   twonrpvnnmvkh2threejzcpz                 22\n",
      "\n",
      "[1000 rows x 2 columns]\n",
      "Answer puzzle 1:  55090\n"
     ]
    }
   ],
   "source": [
    "\n",
    "import pandas as pd\n",
    "import re\n",
    "\n",
    "def calculate_calibration_value(text):\n",
    "    numbers_list = re.findall('\\d', text)\n",
    "    return numbers_list[0] + numbers_list[-1] if len(numbers_list) > 0 else '0'\n",
    "\n",
    "# Read file and create dataframe with 2 columns, text line #and calibration value\n",
    "df = pd.read_csv(\"./P1/input.txt\", names=['Text_line', 'Calibration_value'])\n",
    "\n",
    "# Change text line type to string\n",
    "df = df.astype({'Text_line': 'string'})\n",
    "\n",
    "# Apply calculate_calibration_value to all text lines to produce calibration values in the Dataframe\n",
    "df['Calibration_value'] = df['Text_line'].apply(calculate_calibration_value)\n",
    "\n",
    "# Change calibration value type from string to int64\n",
    "df = df.astype({'Calibration_value': 'int'})\n",
    "\n",
    "# Print preview of Dataframe\n",
    "print(df)\n",
    "\n",
    "# Calculate sum total of calibration values\n",
    "print('Answer puzzle 1: ', df['Calibration_value'].sum())\n",
    "\n"
   ]
  }
 ],
 "metadata": {
  "kernelspec": {
   "argv": [
    "/usr/bin/python3",
    "-m",
    "ipykernel_launcher",
    "-f",
    "{connection_file}"
   ],
   "display_name": "Python 3 (ipykernel)",
   "env": null,
   "interrupt_mode": "signal",
   "language": "python",
   "metadata": {
    "debugger": true
   },
   "name": "python3"
  },
  "name": "AdventOfCode2023.ipynb"
 },
 "nbformat": 4,
 "nbformat_minor": 5
}
